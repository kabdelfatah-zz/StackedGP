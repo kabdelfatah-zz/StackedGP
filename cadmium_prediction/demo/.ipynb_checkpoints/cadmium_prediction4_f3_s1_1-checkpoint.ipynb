{
 "cells": [
  {
   "cell_type": "markdown",
   "metadata": {},
   "source": [
    "### This File used to predict cadmium using the following stacked structure\n",
    "    ## First layer: has two nodes\n",
    "        # input is location\n",
    "        # output is Ni,Zn,Co\n",
    "    ## Second layer:\n",
    "        # input is Zn, Ni,Co, location\n",
    "        # output is Cd\n",
    "### This File Also used to predict cadmium using single GP"
   ]
  },
  {
   "cell_type": "code",
   "execution_count": 79,
   "metadata": {
    "collapsed": true
   },
   "outputs": [],
   "source": [
    "%matplotlib inline \n",
    "\n",
    "import sys\n",
    "sys.path.append('../')\n",
    "sys.path.append('../../stackedgp_src/')\n",
    "from __future__ import division\n",
    "from mpl_toolkits.mplot3d import axes3d\n",
    "from stackedGPNetwork import StackedGPNetwork\n",
    "from sklearn.cross_validation import KFold\n",
    "import GPy, time\n",
    "import numpy as np\n",
    "import matplotlib\n",
    "import matplotlib.pyplot as plt\n",
    "from sklearn.preprocessing import StandardScaler"
   ]
  },
  {
   "cell_type": "markdown",
   "metadata": {},
   "source": [
    "## Load Data"
   ]
  },
  {
   "cell_type": "code",
   "execution_count": 80,
   "metadata": {
    "collapsed": false
   },
   "outputs": [
    {
     "name": "stdout",
     "output_type": "stream",
     "text": [
      "Min of Y:  [  0.135   1.98   25.      1.552]\n",
      "normalisation: mean/std [ 0.03607936] [ 0.70738224]\n"
     ]
    }
   ],
   "source": [
    "#x\ty\tLanduse\tRock\tCd\tCo\tCr\tCu\tNi\tPb\tZn\n",
    "\n",
    "X = np.genfromtxt('../data/jura_csv/X.txt', delimiter=' ')\n",
    "Y = np.genfromtxt('../data/jura_csv/Y.txt', delimiter=' ')\n",
    "Z = np.genfromtxt('../data/jura2.csv', delimiter=',')[:,[5]] # 5 is the index of Co\n",
    "Y = np.concatenate((Y,Z),axis=1) # add Co to the responses\n",
    "\n",
    "print 'Min of Y: ', Y.min(axis=0)\n",
    "Y = np.log(Y)\n",
    "scaler = StandardScaler()\n",
    "Y[:259,[0]] = scaler.fit_transform(Y[:259,[0]])\n",
    "Y[259:,[0]] = scaler.transform(Y[259:,[0]])\n",
    "print 'normalisation: mean/std',scaler.mean_,scaler.std_"
   ]
  },
  {
   "cell_type": "markdown",
   "metadata": {},
   "source": [
    "## Train Stacked GP"
   ]
  },
  {
   "cell_type": "code",
   "execution_count": 81,
   "metadata": {
    "collapsed": true
   },
   "outputs": [],
   "source": [
    "# ntrain = X.shape[0]\n",
    "trainX,testX = X[:259,:], X[259:,:]\n",
    "trainY, testY = Y[:259,0:1], Y[259:,0:1]\n",
    "trainZ, testZ = Y[:259,1:], Y[259:,1:]\n",
    "testY = scaler.inverse_transform(np.concatenate((testY,testZ),axis=1))[:,0:1]\n",
    "testY = np.exp(testY)"
   ]
  },
  {
   "cell_type": "code",
   "execution_count": 82,
   "metadata": {
    "collapsed": false
   },
   "outputs": [
    {
     "name": "stdout",
     "output_type": "stream",
     "text": [
      "Training Time =  11.871444\n"
     ]
    }
   ],
   "source": [
    "stackedNetwork = StackedGPNetwork(2)\n",
    "no_GPs = trainZ.shape[1]\n",
    "for i in range(no_GPs):\n",
    "    stackedNetwork.createNewNode(0,trainX,trainZ[:,i:i+1], normalize=True, ARD = False, useGPU=False)\n",
    "# stackedNetwork.createNewNode(0,trainX,trainZ[:,1:2], normalize=True, useGPU=False)\n",
    "\n",
    "traindata = np.concatenate((trainX,trainZ), axis=1)\n",
    "stackedNetwork.createNewNode(1,traindata,trainY, normalize=True, ARD=True, useGPU=False)\n",
    "\n",
    "\n",
    "t0= time.clock()\n",
    "stackedNetwork.optimize(numoptimizationtrails=1)\n",
    "t= time.clock() - t0 # t is CPU seconds elapsed (floating point)\n",
    "print 'Training Time = ',t"
   ]
  },
  {
   "cell_type": "markdown",
   "metadata": {},
   "source": [
    "## Test Stacked GP on Testing"
   ]
  },
  {
   "cell_type": "code",
   "execution_count": 83,
   "metadata": {
    "collapsed": true
   },
   "outputs": [],
   "source": [
    "#create the input data for the first layer\n",
    "no_GPs = trainZ.shape[1]\n",
    "fdata = np.tile(testX,no_GPs)\n",
    "# predict from the first layer,\n",
    "fmean, fvar = stackedNetwork.predictLayer(0,fdata,None,include_likelihood=True)\n",
    "\n",
    "sdata = np.concatenate((testX,fmean),axis=1)\n",
    "# stv = np.concatenate((np.zeros(testX.shape),np.zeros(testZ.shape)),axis=1)\n",
    "stv = np.concatenate((np.zeros(testX.shape),fvar),axis=1)\n",
    "mean, var = stackedNetwork.predictLayer(1,sdata,stv, jitter=1e-1, covoption=1, include_likelihood=True,include_covnoise=True)\n",
    "E_af = scaler.inverse_transform(np.concatenate((mean,testZ),axis=1))[:,0:1]\n",
    "E_af = np.exp(E_af)"
   ]
  },
  {
   "cell_type": "code",
   "execution_count": 84,
   "metadata": {
    "collapsed": false
   },
   "outputs": [
    {
     "name": "stdout",
     "output_type": "stream",
     "text": [
      "Applying log-normal distribution inverse...\n",
      "Mean (min/max):  0.355365364722 1.71497331813\n",
      "RMSE:  0.705874645668\n",
      "MAE:  0.517794639684\n",
      "Predicted STD:  0.641299199625 0.99529181619\n"
     ]
    }
   ],
   "source": [
    "#=========================================================================\n",
    "#=========================================================================\n",
    "print 'Applying log-normal distribution inverse...'\n",
    "\n",
    "# E_af = np.exp(mean+var/2)\n",
    "# varun = (np.exp(var) -1)*np.exp(2*mean + var)\n",
    "varun = var\n",
    "print 'Mean (min/max): ',E_af.min(), E_af.max()\n",
    "# print 'Variance (min/max): ',varun.min(), varun.max()\n",
    "# conf1 = E_af + 2*np.sqrt(varun)\n",
    "# conf2 = E_af - 2*np.sqrt(varun)\n",
    "rmse = np.sqrt(np.sum(np.square(E_af-testY))/testY.shape[0])\n",
    "# rmse1,rmse2 =  np.sqrt(np.sum(np.square(conf1-testY))/testY.shape[0]), np.sqrt(np.sum(np.square(conf2-testY))/testY.shape[0])\n",
    "print 'RMSE: ', rmse\n",
    "# print '95% conf RMSE: ',rmse1,rmse2\n",
    "mae = np.sum(abs(E_af-testY))/testY.shape[0]\n",
    "print 'MAE: ', mae\n",
    "# mad1,mad2 = np.sum(abs(conf1-testY))/testY.shape[0], np.sum(abs(conf2-testY))/testY.shape[0]\n",
    "# print '95% conf MAD: ', mad1,mad2\n",
    "pstd = np.sqrt(varun)\n",
    "print 'Predicted STD: ', pstd.min(), pstd.max()"
   ]
  },
  {
   "cell_type": "code",
   "execution_count": null,
   "metadata": {
    "collapsed": true
   },
   "outputs": [],
   "source": []
  },
  {
   "cell_type": "code",
   "execution_count": null,
   "metadata": {
    "collapsed": true
   },
   "outputs": [],
   "source": []
  }
 ],
 "metadata": {
  "anaconda-cloud": {},
  "kernelspec": {
   "display_name": "Python 2",
   "language": "python",
   "name": "python2"
  },
  "language_info": {
   "codemirror_mode": {
    "name": "ipython",
    "version": 2
   },
   "file_extension": ".py",
   "mimetype": "text/x-python",
   "name": "python",
   "nbconvert_exporter": "python",
   "pygments_lexer": "ipython2",
   "version": "2.7.6"
  }
 },
 "nbformat": 4,
 "nbformat_minor": 0
}
