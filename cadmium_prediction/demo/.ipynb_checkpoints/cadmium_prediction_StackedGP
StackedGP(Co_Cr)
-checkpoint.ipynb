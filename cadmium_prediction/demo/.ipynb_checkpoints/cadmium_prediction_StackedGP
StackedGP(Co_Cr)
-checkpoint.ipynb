{
 "cells": [
  {
   "cell_type": "markdown",
   "metadata": {},
   "source": [
    "'''\n",
    " *--------------------------------------------------------------------------\n",
    " *--------------------------------------------------------------------------\n",
    " *\n",
    " * Copyright (C) 2017 Kareem Abdelfatah - krabea@email.sc.edu\n",
    " *\n",
    " * The main applications of the StackedGP framework are to integrate different datasets through model composition, \n",
    " * enhance predictions of quantities of interest through a cascade of intermediate predictions, and\n",
    " * to propagate uncertainties through emulated dynamical systems driven by uncertain forcing variables. \n",
    " * By using analytical first and second-order moments of a Gaussian process as presented in the \n",
    " * following paper:\n",
    " * \n",
    " * Kareem Abdelfatah, Junshu Bao, Gabriel Terejanu (2017). \n",
    " Environmental Modeling Framework using Stacked Gaussian Processes. arXiv:1612.02897v2 . 18 Jun 2017\n",
    " * \n",
    " * This program is free software; you can redistribute it and/or modify\n",
    " * it under the terms of the GNU General Public License as published by\n",
    " * the Free Software Foundation; either version 2 of the License, or\n",
    " * (at your option) any later version.\n",
    " *\n",
    " * This program is distributed in the hope that it will be useful,\n",
    " * but WITHOUT ANY WARRANTY; without even the implied warranty of\n",
    " * MERCHANTABILITY or FITNESS FOR A PARTICULAR PURPOSE.  See the\n",
    " * GNU General Public License for more details.\n",
    " *\n",
    " * You should have received a copy of the GNU General Public License along\n",
    " * with this program; if not, write to the author.\n",
    " *\n",
    " *--------------------------------------------------------------------------\n",
    " *\n",
    " * cadmium_prediction_StackedGPStackedGP(Co_Cr).ipynb\n",
    " * \n",
    " *--------------------------------------------------------------------------\n",
    " *-------------------------------------------------------------------------- \n",
    " '''"
   ]
  },
  {
   "cell_type": "markdown",
   "metadata": {},
   "source": [
    "### This File used to predict cadmium using the following stacked structure\n",
    "    ## First layer: has two nodes\n",
    "        # input is location,Ni,Zn\n",
    "        # output is Co,Cr\n",
    "    ## Second layer:\n",
    "        # input is location, Ni, Zn, Co, Cr\n",
    "        # output is Cd\n"
   ]
  },
  {
   "cell_type": "code",
   "execution_count": 1,
   "metadata": {
    "collapsed": true
   },
   "outputs": [],
   "source": [
    "%matplotlib inline \n",
    "\n",
    "import sys\n",
    "sys.path.append('../')\n",
    "sys.path.append('../../stackedgp_src/')\n",
    "from __future__ import division\n",
    "from mpl_toolkits.mplot3d import axes3d\n",
    "from stackedGPNetwork import StackedGPNetwork\n",
    "from sklearn.cross_validation import KFold\n",
    "import GPy, time\n",
    "import numpy as np\n",
    "import matplotlib\n",
    "import matplotlib.pyplot as plt\n",
    "from sklearn.preprocessing import StandardScaler\n",
    "from sklearn.decomposition import FastICA"
   ]
  },
  {
   "cell_type": "markdown",
   "metadata": {},
   "source": [
    "## Load Data"
   ]
  },
  {
   "cell_type": "code",
   "execution_count": 2,
   "metadata": {
    "collapsed": false
   },
   "outputs": [
    {
     "name": "stdout",
     "output_type": "stream",
     "text": [
      "Min of Y:  [ 0.135]\n",
      "normalisation: mean/std [ 0.03607936] [ 0.70738224]\n"
     ]
    }
   ],
   "source": [
    "X = np.genfromtxt('../data/jura2.csv', delimiter=',')[:,[0,1]] # x,y locations\n",
    "Y = np.genfromtxt('../data/jura2.csv', delimiter=',')[:,[4,10,8]] # Cd, Zn, Ni\n",
    "Z = np.genfromtxt('../data/jura2.csv', delimiter=',')[:,[5,6]] # 5 is the index of Co\n",
    "X = np.concatenate((X,Y[:,1:]),axis=1) # add Zn, Ni to the input matrix\n",
    "\n",
    "Y = Y[:,0:1]\n",
    "\n",
    "print 'Min of Y: ', Y.min(axis=0)\n",
    "Z[:,1:] = np.log(Z[:,1:]+1)\n",
    "Y = np.log(Y)\n",
    "if Z.shape[1] > 1:\n",
    "    ica = FastICA(n_components=Z.shape[1],random_state=100,fun='exp')\n",
    "    Z[:259,:] = ica.fit_transform(Z[:259,:])\n",
    "    Z[259:,:] = ica.transform(Z[259:,:])\n",
    "    \n",
    "scaler = StandardScaler()\n",
    "scaler1 = StandardScaler()\n",
    "scaler2 = StandardScaler()\n",
    "Y[:259,:] = scaler.fit_transform(Y[:259,:])\n",
    "Z[:259,:] = scaler1.fit_transform(Z[:259,:])\n",
    "X[:259,2:] = scaler2.fit_transform(X[:259,2:])\n",
    "X[259:,2:] = scaler2.transform(X[259:,2:])\n",
    "print 'normalisation: mean/std',scaler.mean_,scaler.std_"
   ]
  },
  {
   "cell_type": "markdown",
   "metadata": {},
   "source": [
    "## Train Stacked GP"
   ]
  },
  {
   "cell_type": "code",
   "execution_count": 3,
   "metadata": {
    "collapsed": false
   },
   "outputs": [
    {
     "name": "stdout",
     "output_type": "stream",
     "text": [
      "(259, 4)\n"
     ]
    }
   ],
   "source": [
    "# ntrain = X.shape[0]\n",
    "trainX,testX = X[:259,:], X[259:,:]\n",
    "trainY, testY = Y[:259,:], Y[259:,:]\n",
    "trainZ, testZ = Z[:259,:], Z[259:,:]\n",
    "# testY = scaler.inverse_transform(testY)\n",
    "testY = np.exp(testY)\n",
    "print trainX.shape"
   ]
  },
  {
   "cell_type": "code",
   "execution_count": 4,
   "metadata": {
    "collapsed": false
   },
   "outputs": [
    {
     "name": "stdout",
     "output_type": "stream",
     "text": [
      "Training Time =  6.194385\n"
     ]
    }
   ],
   "source": [
    "stackedNetwork = StackedGPNetwork(2)\n",
    "no_GPs = trainZ.shape[1]\n",
    "for i in range(no_GPs):\n",
    "    stackedNetwork.createNewNode(0,trainX,trainZ[:,i:i+1], normalize=True, ARD = False, useGPU=False)\n",
    "\n",
    "traindata = np.concatenate((trainX,trainZ), axis=1)\n",
    "stackedNetwork.createNewNode(1,traindata,trainY, normalize=True, ARD=False, useGPU=False)\n",
    "\n",
    "\n",
    "t0= time.clock()\n",
    "stackedNetwork.optimize(numoptimizationtrails=1)\n",
    "t= time.clock() - t0 # t is CPU seconds elapsed (floating point)\n",
    "print 'Training Time = ',t"
   ]
  },
  {
   "cell_type": "markdown",
   "metadata": {},
   "source": [
    "## Test Stacked GP on Testing"
   ]
  },
  {
   "cell_type": "code",
   "execution_count": 5,
   "metadata": {
    "collapsed": true
   },
   "outputs": [],
   "source": [
    "#create the input data for the first layer\n",
    "fdata = np.tile(testX,no_GPs)\n",
    "# predict from the first layer,\n",
    "fmean, fvar = stackedNetwork.predictLayer(0,fdata,None,include_likelihood=True)\n",
    "\n",
    "sdata = np.concatenate((testX,fmean),axis=1)\n",
    "# stv = np.concatenate((np.zeros(testX.shape),np.zeros(testZ.shape)),axis=1)\n",
    "stv = np.concatenate((np.zeros(testX.shape),fvar),axis=1)\n",
    "mean, var = stackedNetwork.predictLayer(1,sdata,stv, jitter=0, covoption=1, include_likelihood=True,include_covnoise=True)\n",
    "E_af = scaler.inverse_transform(mean)\n",
    "E_af = np.exp(E_af)"
   ]
  },
  {
   "cell_type": "code",
   "execution_count": 6,
   "metadata": {
    "collapsed": false
   },
   "outputs": [
    {
     "name": "stdout",
     "output_type": "stream",
     "text": [
      "Applying log-normal distribution inverse...\n",
      "Mean (min/max):  0.336360040449 1.96397417148\n",
      "RMSE:  0.526160635823\n",
      "MAE:  0.360202603075\n",
      "Predicted STD:  0.590137126057 0.942228717517\n"
     ]
    }
   ],
   "source": [
    "#=========================================================================\n",
    "#=========================================================================\n",
    "print 'Applying log-normal distribution inverse...'\n",
    "varun = var\n",
    "print 'Mean (min/max): ',E_af.min(), E_af.max()\n",
    "rmse = np.sqrt(np.sum(np.square(E_af-testY))/testY.shape[0])\n",
    "print 'RMSE: ', rmse\n",
    "mae = np.sum(abs(E_af-testY))/testY.shape[0]\n",
    "print 'MAE: ', mae\n",
    "pstd = np.sqrt(varun)\n",
    "print 'Predicted STD: ', pstd.min(), pstd.max()"
   ]
  },
  {
   "cell_type": "code",
   "execution_count": null,
   "metadata": {
    "collapsed": true
   },
   "outputs": [],
   "source": []
  }
 ],
 "metadata": {
  "anaconda-cloud": {},
  "kernelspec": {
   "display_name": "Python 2",
   "language": "python",
   "name": "python2"
  },
  "language_info": {
   "codemirror_mode": {
    "name": "ipython",
    "version": 2
   },
   "file_extension": ".py",
   "mimetype": "text/x-python",
   "name": "python",
   "nbconvert_exporter": "python",
   "pygments_lexer": "ipython2",
   "version": "2.7.6"
  }
 },
 "nbformat": 4,
 "nbformat_minor": 0
}
